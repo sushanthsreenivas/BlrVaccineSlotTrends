{
 "cells": [
  {
   "cell_type": "code",
   "execution_count": 1,
   "metadata": {},
   "outputs": [],
   "source": [
    "import pandas as pd\n",
    "import re\n",
    "import datetime as dt\n",
    "import numpy as np"
   ]
  },
  {
   "cell_type": "code",
   "execution_count": 2,
   "metadata": {},
   "outputs": [],
   "source": [
    "df = pd.read_json(\"ChatExport_2021-05-15/result.json\")"
   ]
  },
  {
   "cell_type": "code",
   "execution_count": 3,
   "metadata": {},
   "outputs": [],
   "source": [
    "def extract_date(x):\n",
    "    return x['date']\n",
    "df['date'] = df['messages'].apply(extract_date)\n",
    "\n",
    "def extract_text(x):\n",
    "    return x['text']\n",
    "df['text'] = df['messages'].apply(extract_text)\n",
    "\n",
    "df.drop(['id','name', 'type','messages'], axis=1, inplace=True)"
   ]
  },
  {
   "cell_type": "code",
   "execution_count": 4,
   "metadata": {},
   "outputs": [],
   "source": [
    "def extract_zip(x):\n",
    "    \n",
    "    groups = re.search('(\\d{6})', str(x)) \n",
    "    \n",
    "    if groups != None:\n",
    "        pin = groups.group()\n",
    "        return pin\n",
    "    else:\n",
    "        return 0\n",
    "    \n",
    "df['pincode'] = df['text'].apply(extract_zip)\n",
    "df = df[~(df['pincode']==0)]"
   ]
  },
  {
   "cell_type": "code",
   "execution_count": 5,
   "metadata": {},
   "outputs": [],
   "source": [
    "df = df[(df['pincode'].str.startswith('56'))]\n",
    "df['pincode'] = df['pincode'].astype('int')\n",
    "df['date'] = df['date'].str.replace('T', ' ')"
   ]
  },
  {
   "cell_type": "code",
   "execution_count": 6,
   "metadata": {},
   "outputs": [
    {
     "data": {
      "text/plain": [
       "date       datetime64[ns]\n",
       "text               object\n",
       "pincode             int32\n",
       "dtype: object"
      ]
     },
     "execution_count": 6,
     "metadata": {},
     "output_type": "execute_result"
    }
   ],
   "source": [
    "df['date'] = pd.to_datetime(df['date'], format='%Y-%m-%d %H:%M:%S')\n",
    "df.dtypes"
   ]
  },
  {
   "cell_type": "code",
   "execution_count": 7,
   "metadata": {},
   "outputs": [],
   "source": [
    "def BBMP(x):\n",
    "    try: \n",
    "        key = x.split('\\n').index('BBMP')\n",
    "    except: \n",
    "        pass \n",
    "    else: \n",
    "        return key\n",
    "\n",
    "def Bangalore_Rural(x):\n",
    "    try: \n",
    "        key = x.split('\\n').index('Bangalore Rural')\n",
    "    except: \n",
    "        pass \n",
    "    else: \n",
    "        return key\n",
    "\n",
    "def Bangalore_Urban(x):\n",
    "    try: \n",
    "        key = x.split('\\n').index('Bangalore Urban')\n",
    "    except: \n",
    "        pass \n",
    "    else: \n",
    "        return key\n",
    "\n",
    "def test(x):   \n",
    "        key_BBMP = BBMP(x)\n",
    "        key_BR = Bangalore_Rural(x) \n",
    "        key_BU = Bangalore_Urban(x)\n",
    "    \n",
    "        if key_BBMP == key_BR == None:\n",
    "            return key_BU\n",
    "        elif key_BBMP == key_BU == None:\n",
    "            return key_BR\n",
    "        elif key_BR == key_BU == None:\n",
    "            return key_BBMP"
   ]
  },
  {
   "cell_type": "code",
   "execution_count": 8,
   "metadata": {},
   "outputs": [],
   "source": [
    "def check_str(x):\n",
    "\n",
    "    if type(x) == str:\n",
    "        return x.split('\\n')[1].split('-')[0].split('1.')[1].strip()\n",
    "   \n",
    "    elif ''.join(x[0]).startswith('Vacc') and len(x)==2:\n",
    "        return x[0].split('\\n')[1].split('-')[0].split('1.')[1].strip()\n",
    "    \n",
    "    elif ''.join(x[0]).startswith('Vacc') and x[4].startswith(' at'):\n",
    "        return x[4].split('at')[1].split(' on')[0].strip()    \n",
    "    \n",
    "    else:\n",
    "        index = test(x[0])\n",
    "        if type(index)==int:\n",
    "            return x[0].split('\\n')[index+1]\n",
    "        else:\n",
    "            return np.nan\n",
    "\n",
    "df['Hospital'] = df['text'].apply(check_str)"
   ]
  },
  {
   "cell_type": "code",
   "execution_count": 12,
   "metadata": {
    "scrolled": true
   },
   "outputs": [],
   "source": [
    "df.to_excel('Hospital_vaccine.xlsx', index=False)"
   ]
  }
 ],
 "metadata": {
  "kernelspec": {
   "display_name": "Python 3",
   "language": "python",
   "name": "python3"
  },
  "language_info": {
   "codemirror_mode": {
    "name": "ipython",
    "version": 3
   },
   "file_extension": ".py",
   "mimetype": "text/x-python",
   "name": "python",
   "nbconvert_exporter": "python",
   "pygments_lexer": "ipython3",
   "version": "3.7.6"
  }
 },
 "nbformat": 4,
 "nbformat_minor": 4
}
